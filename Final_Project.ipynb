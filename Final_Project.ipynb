{
 "cells": [
  {
   "cell_type": "markdown",
   "id": "1b554648-e70b-47ea-967a-9827202871bd",
   "metadata": {},
   "source": [
    "# Final Project - Data Science Tools and Ecosystem\n",
    "## Introduction\n",
    "This notebook covers the basic tools, libraries, and languages used in data science, as well as simple arithmetic expressions using Python.\n"
   ]
  },
  {
   "cell_type": "markdown",
   "id": "79ccabbb-f815-4268-a9d6-29b0baa143d1",
   "metadata": {},
   "source": [
    "## Popular Data Science Languages\n",
    "- Python  \n",
    "- R  \n",
    "- SQL  \n",
    "- Java  \n",
    "- Julia\n"
   ]
  },
  {
   "cell_type": "markdown",
   "id": "80edd619-05eb-47a6-8800-5f34cf19a1ed",
   "metadata": {},
   "source": [
    "## Commonly Used Libraries in Data Science\n",
    "- Pandas  \n",
    "- NumPy  \n",
    "- Matplotlib  \n",
    "- Scikit-learn  \n",
    "- TensorFlow\n"
   ]
  },
  {
   "cell_type": "markdown",
   "id": "c58ec44c-9e3b-4f18-ac5b-6e261b5d0d96",
   "metadata": {},
   "source": [
    "## Data Science Tools\n",
    "\n",
    "| Tool           | Category            |\n",
    "|----------------|---------------------|\n",
    "| Jupyter        | Notebook Environment |\n",
    "| RStudio        | IDE                  |\n",
    "| Apache Spark   | Big Data Framework   |\n",
    "| VSCode         | Code Editor          |\n",
    "| TensorFlow     | Deep Learning Library |\n"
   ]
  },
  {
   "cell_type": "markdown",
   "id": "ebc4881a-d203-4da9-b926-e0da21c78241",
   "metadata": {},
   "source": [
    "## Arithmetic Expressions in Python\n",
    "The following code cell will demonstrate how to perform basic math operations like multiplication and addition.\n"
   ]
  },
  {
   "cell_type": "code",
   "execution_count": 12,
   "id": "986e4485-78f4-4c63-bb58-87d70b4dbea9",
   "metadata": {},
   "outputs": [
    {
     "data": {
      "text/plain": [
       "17"
      ]
     },
     "execution_count": 12,
     "metadata": {},
     "output_type": "execute_result"
    }
   ],
   "source": [
    "# This expression multiplies 3 and 4, then adds 5\n",
    "(3 * 4) + 5\n"
   ]
  },
  {
   "cell_type": "code",
   "execution_count": 14,
   "id": "da015436-c0a8-439f-9cb7-02fe9ee8a4a6",
   "metadata": {},
   "outputs": [
    {
     "data": {
      "text/plain": [
       "3.3333333333333335"
      ]
     },
     "execution_count": 14,
     "metadata": {},
     "output_type": "execute_result"
    }
   ],
   "source": [
    "# Convert 200 minutes to hours\n",
    "minutes = 200\n",
    "hours = minutes / 60\n",
    "hours\n"
   ]
  },
  {
   "cell_type": "markdown",
   "id": "f4834f78-6ac8-4654-a2d6-9cf7bb1ad075",
   "metadata": {},
   "source": [
    "## Objectives\n",
    "\n",
    "- List popular languages used in Data Science  \n",
    "- Identify common data science libraries  \n",
    "- Create tables in markdown  \n",
    "- Perform arithmetic expressions in Python  \n",
    "- Convert units of time using Python\n"
   ]
  },
  {
   "cell_type": "markdown",
   "id": "8389c656-0752-49df-9a0a-1ab731954b17",
   "metadata": {},
   "source": [
    "## Author  \n",
    "**Syed Raza Hashmi**\n"
   ]
  },
  {
   "cell_type": "markdown",
   "id": "104012bc-2e7b-4df1-b175-3b55134601ef",
   "metadata": {},
   "source": []
  }
 ],
 "metadata": {
  "kernelspec": {
   "display_name": "Python [conda env:base] *",
   "language": "python",
   "name": "conda-base-py"
  },
  "language_info": {
   "codemirror_mode": {
    "name": "ipython",
    "version": 3
   },
   "file_extension": ".py",
   "mimetype": "text/x-python",
   "name": "python",
   "nbconvert_exporter": "python",
   "pygments_lexer": "ipython3",
   "version": "3.12.7"
  }
 },
 "nbformat": 4,
 "nbformat_minor": 5
}
